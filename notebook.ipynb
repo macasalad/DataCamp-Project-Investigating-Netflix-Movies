{
 "cells": [
  {
   "cell_type": "markdown",
   "id": "937acf3c-c077-4ca6-8d90-8f6dd4d13c54",
   "metadata": {},
   "source": [
    "<center><img src=\"redpopcorn.jpg\"></center>"
   ]
  },
  {
   "cell_type": "markdown",
   "id": "5962b2cd-17bb-4ec9-b2d5-68537ca26860",
   "metadata": {},
   "source": [
    "**Netflix**! What started in 1997 as a DVD rental service has since exploded into one of the largest entertainment and media companies.\n",
    "\n",
    "Given the large number of movies and series available on the platform, it is a perfect opportunity to flex your exploratory data analysis skills and dive into the entertainment industry.\n",
    "\n",
    "You work for a production company that specializes in nostalgic styles. You want to do some research on movies released in the 1990's. You'll delve into Netflix data and perform exploratory data analysis to better understand this awesome movie decade!\n",
    "\n",
    "You have been supplied with the dataset `netflix_data.csv`, along with the following table detailing the column names and descriptions. Feel free to experiment further after submitting!\n",
    "\n",
    "## The data\n",
    "### **netflix_data.csv**\n",
    "| Column | Description |\n",
    "|--------|-------------|\n",
    "| `show_id` | The ID of the show |\n",
    "| `type` | Type of show |\n",
    "| `title` | Title of the show |\n",
    "| `director` | Director of the show |\n",
    "| `cast` | Cast of the show |\n",
    "| `country` | Country of origin |\n",
    "| `date_added` | Date added to Netflix |\n",
    "| `release_year` | Year of Netflix release |\n",
    "| `duration` | Duration of the show in minutes |\n",
    "| `description` | Description of the show |\n",
    "| `genre` | Show genre |"
   ]
  },
  {
   "cell_type": "markdown",
   "id": "c55a453f-46bf-445d-9394-b5498cba59cb",
   "metadata": {},
   "source": [
    "To start this project, we must first import the necessary packages, namely `pandas` for handling dataframes and `matplotlib.pyplot` for generating graphs. Additionally, we need to convert the `CSV` file into a dataframe for easier access."
   ]
  },
  {
   "cell_type": "code",
   "execution_count": 11,
   "id": "320a3abc-8a36-4b2b-baaf-473325363a4d",
   "metadata": {
    "executionCancelledAt": null,
    "executionTime": 49,
    "lastExecutedAt": 1734020506494,
    "lastExecutedByKernel": "1a3592ed-a34d-4c90-be1c-83fb27d2f002",
    "lastScheduledRunId": null,
    "lastSuccessfullyExecutedCode": "# Importing pandas and matplotlib\nimport pandas as pd\nimport matplotlib.pyplot as plt\n\n# Read in the Netflix CSV as a DataFrame\nnetflix_df = pd.read_csv(\"netflix_data.csv\")",
    "outputsMetadata": {
     "0": {
      "height": 311,
      "type": "stream"
     }
    }
   },
   "outputs": [],
   "source": [
    "# Importing pandas and matplotlib\n",
    "import pandas as pd\n",
    "import matplotlib.pyplot as plt\n",
    "\n",
    "# Read in the Netflix CSV as a DataFrame\n",
    "netflix_df = pd.read_csv(\"netflix_data.csv\")"
   ]
  },
  {
   "cell_type": "markdown",
   "id": "db1c15a8-3e7c-48b0-891d-a71368cb1783",
   "metadata": {},
   "source": [
    "Next, we need to subset `netflix_df` to create a new dataframe containing only **movies released in the 1990s**, i.e., between 1990 and 1999."
   ]
  },
  {
   "cell_type": "code",
   "execution_count": 12,
   "id": "72658473-114f-49eb-bd4e-cc03c710834a",
   "metadata": {
    "executionCancelledAt": null,
    "executionTime": 52,
    "lastExecutedAt": 1734020506546,
    "lastExecutedByKernel": "1a3592ed-a34d-4c90-be1c-83fb27d2f002",
    "lastScheduledRunId": null,
    "lastSuccessfullyExecutedCode": "# Filtering 1990s movies\nmovies_1990s = netflix_df[(netflix_df['type'] == 'Movie') & (netflix_df['release_year'] >= 1990) & (netflix_df['release_year'] <= 1999)]",
    "outputsMetadata": {
     "0": {
      "height": 311,
      "type": "stream"
     }
    }
   },
   "outputs": [],
   "source": [
    "# Filtering 1990s movies\n",
    "movies_1990s = netflix_df[(netflix_df['type'] == 'Movie') & (netflix_df['release_year'] >= 1990) & (netflix_df['release_year'] <= 1999)]"
   ]
  },
  {
   "cell_type": "markdown",
   "id": "283e0675-50dd-4485-8252-97c5d1112515",
   "metadata": {},
   "source": [
    "To illustrate, the following displays the first 25 rows and the `show_id`, `type`, and `release_year` columns of the new dataframe."
   ]
  },
  {
   "cell_type": "code",
   "execution_count": 13,
   "id": "cbd34b37-6b1b-413f-ba8c-ca47ef3d2a3d",
   "metadata": {
    "executionCancelledAt": null,
    "executionTime": null,
    "lastExecutedAt": null,
    "lastExecutedByKernel": null,
    "lastScheduledRunId": null,
    "lastSuccessfullyExecutedCode": null,
    "outputsMetadata": {
     "0": {
      "height": 331,
      "type": "stream"
     }
    }
   },
   "outputs": [
    {
     "name": "stdout",
     "output_type": "stream",
     "text": [
      "    show_id   type  release_year\n",
      "6        s8  Movie          1997\n",
      "118    s167  Movie          1993\n",
      "145    s211  Movie          1998\n",
      "167    s239  Movie          1996\n",
      "194    s274  Movie          1993\n",
      "240    s344  Movie          1990\n",
      "315    s456  Movie          1999\n",
      "320    s467  Movie          1998\n",
      "333    s487  Movie          1991\n",
      "334    s488  Movie          1999\n",
      "352    s508  Movie          1994\n",
      "410    s593  Movie          1997\n",
      "428    s624  Movie          1994\n",
      "430    s627  Movie          1997\n",
      "431    s628  Movie          1999\n",
      "468    s688  Movie          1995\n",
      "479    s709  Movie          1995\n",
      "515    s757  Movie          1995\n",
      "516    s758  Movie          1998\n",
      "517    s759  Movie          1992\n",
      "530    s782  Movie          1997\n",
      "536    s795  Movie          1996\n",
      "537    s796  Movie          1992\n",
      "606    s902  Movie          1999\n",
      "622    s920  Movie          1991\n"
     ]
    }
   ],
   "source": [
    "print(movies_1990s.iloc[:25, [0, 1, 7]])"
   ]
  },
  {
   "cell_type": "markdown",
   "id": "d6693f13-5443-40a5-b137-196029fdbde8",
   "metadata": {},
   "source": [
    "After filtering the data, we can proceed to analyze the duration of movies released in the 1990s. By plotting a histogram using `matplotlib`, we observe that the most frequent movie duration during this decade is approximately **100** minutes."
   ]
  },
  {
   "cell_type": "code",
   "execution_count": 14,
   "id": "ed28cae3-876d-42c3-8046-5be567d51db8",
   "metadata": {
    "executionCancelledAt": null,
    "executionTime": 200,
    "lastExecutedAt": 1734020506746,
    "lastExecutedByKernel": "1a3592ed-a34d-4c90-be1c-83fb27d2f002",
    "lastScheduledRunId": null,
    "lastSuccessfullyExecutedCode": "# Getting the duration column for all rows\nmovies_1990s_duration = movies_1990s[['duration']]\n\n# Plotting a histogram\nplt.hist(movies_1990s_duration, bins=25)\nplt.show()\n\n# Most frequent duration\nduration = 100",
    "outputsMetadata": {
     "0": {
      "height": 311,
      "type": "stream"
     }
    }
   },
   "outputs": [
    {
     "data": {
      "image/png": "[encoded data removed]",
      "text/plain": [
       "<Figure size 640x480 with 1 Axes>"
      ]
     },
     "metadata": {},
     "output_type": "display_data"
    }
   ],
   "source": [
    "# Getting the duration column for all rows\n",
    "movies_1990s_duration = movies_1990s[['duration']]\n",
    "\n",
    "# Plotting a histogram\n",
    "plt.hist(movies_1990s_duration, bins=25)\n",
    "plt.xlabel('Duration')\n",
    "plt.ylabel('Number of movies')\n",
    "plt.show()\n",
    "\n",
    "# Most frequent duration\n",
    "duration = 100"
   ]
  },
  {
   "cell_type": "markdown",
   "id": "4c596999-9085-437e-bf69-059514ec499a",
   "metadata": {},
   "source": [
    "Lastly, from the dataframe containing movies released in the 1990s, we can further narrow it down to **action movies with a duration of less than 90 minutes**. Using the `len` function, we can determine that the number of shows meeting the aforementioned criteria is **7**."
   ]
  },
  {
   "cell_type": "code",
   "execution_count": 15,
   "id": "4849e714-9386-4916-80da-e79c8df708bf",
   "metadata": {
    "executionCancelledAt": null,
    "executionTime": 54,
    "lastExecutedAt": 1734020988506,
    "lastExecutedByKernel": "1a3592ed-a34d-4c90-be1c-83fb27d2f002",
    "lastScheduledRunId": null,
    "lastSuccessfullyExecutedCode": "short_action_movies = movies_1990s[(movies_1990s['duration'] < 90) & (movies_1990s['genre'] == 'Action')]\nshort_movie_count = len(short_action_movies)",
    "outputsMetadata": {
     "0": {
      "height": 206,
      "type": "stream"
     }
    }
   },
   "outputs": [],
   "source": [
    "# Filtering short action movies\n",
    "short_action_movies = movies_1990s[(movies_1990s['duration'] < 90) & (movies_1990s['genre'] == 'Action')]\n",
    "\n",
    "# Getting the number of short action movies\n",
    "short_movie_count = len(short_action_movies)"
   ]
  },
  {
   "cell_type": "markdown",
   "id": "6d834520-b1f9-4656-b81a-7013018631ec",
   "metadata": {},
   "source": [
    "To illustrate, the following displays the 7 movies, highlighting their `type`, `release_year`, `duration`, and `genre`."
   ]
  },
  {
   "cell_type": "code",
   "execution_count": 16,
   "id": "88dd3187-0863-4514-ba51-13fd9f32d9cd",
   "metadata": {
    "executionCancelledAt": null,
    "executionTime": 55,
    "lastExecutedAt": 1734021097862,
    "lastExecutedByKernel": "1a3592ed-a34d-4c90-be1c-83fb27d2f002",
    "lastScheduledRunId": null,
    "lastSuccessfullyExecutedCode": "print(short_action_movies.iloc[:, [0, 1, 7, 8, -1]])",
    "outputsMetadata": {
     "0": {
      "height": 185,
      "type": "stream"
     }
    }
   },
   "outputs": [
    {
     "name": "stdout",
     "output_type": "stream",
     "text": [
      "     show_id   type  release_year  duration   genre\n",
      "1288   s2039  Movie          1998        69  Action\n",
      "1698   s2708  Movie          1997        89  Action\n",
      "2328   s3718  Movie          1990        88  Action\n",
      "2993   s4787  Movie          1992        84  Action\n",
      "3297   s5299  Movie          1995        89  Action\n",
      "3806   s6114  Movie          1993        83  Action\n",
      "3943   s6330  Movie          1997        87  Action\n"
     ]
    }
   ],
   "source": [
    "print(short_action_movies.iloc[:, [0, 1, 7, 8, -1]])"
   ]
  }
 ],
 "metadata": {
  "colab": {
   "name": "Welcome to DataCamp Workspaces.ipynb",
   "provenance": []
  },
  "editor": "DataLab",
  "kernelspec": {
   "display_name": "netflixenv",
   "language": "python",
   "name": "python3"
  },
  "language_info": {
   "codemirror_mode": {
    "name": "ipython",
    "version": 3
   },
   "file_extension": ".py",
   "mimetype": "text/x-python",
   "name": "python",
   "nbconvert_exporter": "python",
   "pygments_lexer": "ipython3",
   "version": "3.12.2"
  }
 },
 "nbformat": 4,
 "nbformat_minor": 5
}
